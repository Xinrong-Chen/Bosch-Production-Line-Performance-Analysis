{
 "cells": [
  {
   "cell_type": "markdown",
   "metadata": {},
   "source": [
    "# Exploratory Data Analysis"
   ]
  },
  {
   "cell_type": "markdown",
   "metadata": {},
   "source": [
    "## Start Spark Session"
   ]
  },
  {
   "cell_type": "code",
   "execution_count": 1,
   "metadata": {},
   "outputs": [],
   "source": [
    "import findspark\n",
    "findspark.init()"
   ]
  },
  {
   "cell_type": "code",
   "execution_count": 2,
   "metadata": {},
   "outputs": [],
   "source": [
    "from pyspark.sql import SparkSession\n",
    "spark = SparkSession.builder.appName(\"Bosch Project\").getOrCreate()"
   ]
  },
  {
   "cell_type": "code",
   "execution_count": 4,
   "metadata": {},
   "outputs": [
    {
     "data": {
      "text/html": [
       "\n",
       "            <div>\n",
       "                <p><b>SparkSession - in-memory</b></p>\n",
       "                \n",
       "        <div>\n",
       "            <p><b>SparkContext</b></p>\n",
       "\n",
       "            <p><a href=\"http://ip-172-31-25-22.ec2.internal:4040\">Spark UI</a></p>\n",
       "\n",
       "            <dl>\n",
       "              <dt>Version</dt>\n",
       "                <dd><code>v2.4.2</code></dd>\n",
       "              <dt>Master</dt>\n",
       "                <dd><code>yarn</code></dd>\n",
       "              <dt>AppName</dt>\n",
       "                <dd><code>Bosch Project</code></dd>\n",
       "            </dl>\n",
       "        </div>\n",
       "        \n",
       "            </div>\n",
       "        "
      ],
      "text/plain": [
       "<pyspark.sql.session.SparkSession at 0x7f5d800625c0>"
      ]
     },
     "execution_count": 4,
     "metadata": {},
     "output_type": "execute_result"
    }
   ],
   "source": [
    "spark"
   ]
  },
  {
   "cell_type": "markdown",
   "metadata": {},
   "source": [
    "## Load feature datasets"
   ]
  },
  {
   "cell_type": "code",
   "execution_count": 5,
   "metadata": {},
   "outputs": [],
   "source": [
    "# Load train_numeric dataset\n",
    "num = spark.read\\\n",
    "  .option('header', 'true')\\\n",
    "  .option('inferSchema', 'true')\\\n",
    "  .format('csv')\\\n",
    "  .load('s3://jiaruxu233/train_numeric.csv')"
   ]
  },
  {
   "cell_type": "code",
   "execution_count": 8,
   "metadata": {},
   "outputs": [],
   "source": [
    "# Load train_categorical\n",
    "cat = spark.read\\\n",
    "  .option('header', 'true')\\\n",
    "  .option('inferSchema', 'true')\\\n",
    "  .format('csv')\\\n",
    "  .load('s3://jiaruxu233/train_categorical.csv')"
   ]
  },
  {
   "cell_type": "code",
   "execution_count": 7,
   "metadata": {},
   "outputs": [],
   "source": [
    "# Load train_date\n",
    "date = spark.read\\\n",
    "  .option('header', 'true')\\\n",
    "  .option('inferSchema', 'true')\\\n",
    "  .format('csv')\\\n",
    "  .load('s3://jiaruxu233/train_date.csv')"
   ]
  },
  {
   "cell_type": "markdown",
   "metadata": {},
   "source": [
    "### Look into the structure of our features"
   ]
  },
  {
   "cell_type": "code",
   "execution_count": 11,
   "metadata": {
    "scrolled": true
   },
   "outputs": [],
   "source": [
    "# num.printSchema()\n",
    "# Top several lines\n",
    "# root\n",
    "#  |-- Id: integer (nullable = true)\n",
    "#  |-- L0_S0_F0: double (nullable = true)\n",
    "#  |-- L0_S0_F2: double (nullable = true)\n",
    "#  |-- L0_S0_F4: double (nullable = true)\n",
    "#  |-- L0_S0_F6: double (nullable = true)\n",
    "#  |-- L0_S0_F8: double (nullable = true)\n",
    "#  |-- L0_S0_F10: double (nullable = true)\n",
    "#  |-- L0_S0_F12: double (nullable = true)\n",
    "#  |-- L0_S0_F14: double (nullable = true)"
   ]
  },
  {
   "cell_type": "code",
   "execution_count": 12,
   "metadata": {
    "scrolled": true
   },
   "outputs": [],
   "source": [
    "# cat.printSchema()\n",
    "# Top several lines\n",
    "# root\n",
    "# |-- Id: integer (nullable = true)\n",
    "# |-- L0_S1_F25: string (nullable = true)\n",
    "# |-- L0_S1_F27: string (nullable = true)\n",
    "# |-- L0_S1_F29: string (nullable = true)\n",
    "# |-- L0_S1_F31: string (nullable = true)\n",
    "# |-- L0_S2_F33: string (nullable = true)\n",
    "# |-- L0_S2_F35: string (nullable = true)\n",
    "# |-- L0_S2_F37: string (nullable = true)"
   ]
  },
  {
   "cell_type": "code",
   "execution_count": 13,
   "metadata": {
    "scrolled": true
   },
   "outputs": [],
   "source": [
    "# date.printSchema()\n",
    "# cat.printSchema()\n",
    "# Top several lines\n",
    "# root\n",
    "# |-- Id: integer (nullable = true)\n",
    "# |-- L0_S0_D1: double (nullable = true)\n",
    "# |-- L0_S0_D3: double (nullable = true)\n",
    "# |-- L0_S0_D5: double (nullable = true)\n",
    "# |-- L0_S0_D7: double (nullable = true)\n",
    "# |-- L0_S0_D9: double (nullable = true)\n",
    "# |-- L0_S0_D11: double (nullable = true)\n",
    "# |-- L0_S0_D13: double (nullable = true)\n",
    "# |-- L0_S0_D15: double (nullable = true)"
   ]
  },
  {
   "cell_type": "markdown",
   "metadata": {},
   "source": [
    "## Explore the data size and failure rate"
   ]
  },
  {
   "cell_type": "code",
   "execution_count": 14,
   "metadata": {},
   "outputs": [],
   "source": [
    "# First, create SQL table for three training data\n",
    "dfnum = num.createOrReplaceTempView(\"dfnum\")\n",
    "dfcat = cat.createOrReplaceTempView(\"dfcat\")\n",
    "dfdate = date.createOrReplaceTempView(\"dfdate\")"
   ]
  },
  {
   "cell_type": "markdown",
   "metadata": {},
   "source": [
    "### Data size"
   ]
  },
  {
   "cell_type": "code",
   "execution_count": 11,
   "metadata": {},
   "outputs": [
    {
     "name": "stdout",
     "output_type": "stream",
     "text": [
      "The number of rows in dfnum: 1183747\n",
      "The number of culomns in dfnum: 970\n",
      "The number of rows in dfcat: 1183747\n",
      "The number of culomns in dfcat: 2141\n",
      "The number of rows in dfdate: 1183747\n",
      "The number of culomns in dfdate: 1157\n"
     ]
    }
   ],
   "source": [
    "# Check the size of dfnum\n",
    "print(\"The number of rows in dfnum:\" , spark.sql(\"SELECT * FROM dfnum\").count())\n",
    "print(\"The number of culomns in dfnum:\" , len(num.columns))\n",
    "\n",
    "# Check the size of dfcat\n",
    "print(\"The number of rows in dfcat:\" , spark.sql(\"SELECT * FROM dfcat\").count())\n",
    "print(\"The number of culomns in dfcat:\" , len(cat.columns))\n",
    "\n",
    "# Check the size of dfdate\n",
    "print(\"The number of rows in dfdate:\" , spark.sql(\"SELECT * FROM dfdate\").count())\n",
    "print(\"The number of culomns in dfdate:\" , len(date.columns))"
   ]
  },
  {
   "cell_type": "markdown",
   "metadata": {},
   "source": [
    "From results above, we notice that our training dataset not only has a lot of records, but also has thousands of columns which may leads to ***the curse of dimensionality*** here if we are going to throw all these features into our model. Therefore, as for the next step, we are going to take a deeper look into those features and do a thoughtful feature selection in order to pick up those features that are indeed helpful."
   ]
  },
  {
   "cell_type": "markdown",
   "metadata": {},
   "source": [
    "### Missing values"
   ]
  },
  {
   "cell_type": "code",
   "execution_count": 104,
   "metadata": {},
   "outputs": [],
   "source": [
    "import pyspark.sql.functions as F\n",
    "num_na_count = num.agg(*[F.count(F.when(F.isnull(c), c)).alias(c) for c in num.columns])"
   ]
  },
  {
   "cell_type": "code",
   "execution_count": 102,
   "metadata": {},
   "outputs": [],
   "source": [
    "df_num_na_count = num_na_count.toPandas().set_index(\"Id\").transpose().reset_index()\n",
    "df_num_na_count.columns = ['feature','count']\n",
    "plotdf = df_num_na_count.groupby('count').count().reset_index()\n",
    "plotdf.columns = ['na_count','fe_count']"
   ]
  },
  {
   "cell_type": "code",
   "execution_count": 103,
   "metadata": {},
   "outputs": [
    {
     "data": {
      "image/png": "[encoded data removed]",
      "text/plain": [
       "<Figure size 432x288 with 1 Axes>"
      ]
     },
     "metadata": {
      "needs_background": "light"
     },
     "output_type": "display_data"
    }
   ],
   "source": [
    "import matplotlib.pyplot as plt\n",
    "x = plotdf['na_count']\n",
    "y = plotdf['fe_count']\n",
    "plt.scatter(x,y)\n",
    "plt.show()"
   ]
  },
  {
   "cell_type": "markdown",
   "metadata": {},
   "source": [
    "From plot above, we notive that a lot of columns has more than ***one million*** missing values which may not be quite helpful for our prediction.   "
   ]
  },
  {
   "cell_type": "code",
   "execution_count": 105,
   "metadata": {},
   "outputs": [],
   "source": [
    "cat_na_count = cat.agg(*[F.count(F.when(F.isnull(c), c)).alias(c) for c in cat.columns])\n",
    "df_cat_na_count = cat_na_count.toPandas().set_index(\"Id\").transpose().reset_index()\n",
    "df_cat_na_count.columns = ['feature','count']\n",
    "plotdf = df_cat_na_count.groupby('count').count().reset_index()\n",
    "plotdf.columns = ['na_count','fe_count']"
   ]
  },
  {
   "cell_type": "code",
   "execution_count": 106,
   "metadata": {
    "scrolled": true
   },
   "outputs": [
    {
     "data": {
      "image/png": "[encoded data removed]",
      "text/plain": [
       "<Figure size 432x288 with 1 Axes>"
      ]
     },
     "metadata": {
      "needs_background": "light"
     },
     "output_type": "display_data"
    }
   ],
   "source": [
    "import matplotlib.pyplot as plt\n",
    "x = plotdf['na_count']\n",
    "y = plotdf['fe_count']\n",
    "plt.scatter(x,y)\n",
    "plt.show()"
   ]
  },
  {
   "cell_type": "markdown",
   "metadata": {},
   "source": [
    "From plot above, we notice only two categorical features have missing values less than ***900k***."
   ]
  },
  {
   "cell_type": "code",
   "execution_count": 107,
   "metadata": {},
   "outputs": [],
   "source": [
    "date_na_count = date.agg(*[F.count(F.when(F.isnull(c), c)).alias(c) for c in date.columns])\n",
    "df_date_na_count = date_na_count.toPandas().set_index(\"Id\").transpose().reset_index()\n",
    "df_date_na_count.columns = ['feature','count']\n",
    "plotdf = df_date_na_count.groupby('count').count().reset_index()\n",
    "plotdf.columns = ['na_count','fe_count']"
   ]
  },
  {
   "cell_type": "code",
   "execution_count": 108,
   "metadata": {},
   "outputs": [
    {
     "data": {
      "image/png": "[encoded data removed]",
      "text/plain": [
       "<Figure size 432x288 with 1 Axes>"
      ]
     },
     "metadata": {
      "needs_background": "light"
     },
     "output_type": "display_data"
    }
   ],
   "source": [
    "import matplotlib.pyplot as plt\n",
    "x = plotdf['na_count']\n",
    "y = plotdf['fe_count']\n",
    "plt.scatter(x,y)\n",
    "plt.show()"
   ]
  },
  {
   "cell_type": "markdown",
   "metadata": {},
   "source": [
    "From plot above, we can conclude that with less missing features, date features may provide a better predictability in our model."
   ]
  },
  {
   "cell_type": "markdown",
   "metadata": {},
   "source": [
    "In conclusion, according to our previous findings, we notice that most features are missing here in our training dataset, especially ***categorical features***. Predictions may differ greatly depending on what features we are going to use and how we manage these missing values."
   ]
  },
  {
   "cell_type": "markdown",
   "metadata": {},
   "source": [
    "### Structure inside date features"
   ]
  },
  {
   "cell_type": "code",
   "execution_count": 15,
   "metadata": {},
   "outputs": [],
   "source": [
    "import pandas as pd\n",
    "import numpy as np\n",
    "pddate = pd.read_csv('s3://jiaruxu233/train_date.csv', nrows=10000)"
   ]
  },
  {
   "cell_type": "code",
   "execution_count": 113,
   "metadata": {},
   "outputs": [
    {
     "name": "stdout",
     "output_type": "stream",
     "text": [
      "+---+--------+--------+--------+--------+--------+\n",
      "| Id|L0_S0_D1|L0_S0_D3|L0_S0_D5|L0_S0_D7|L0_S0_D9|\n",
      "+---+--------+--------+--------+--------+--------+\n",
      "|  4|   82.24|   82.24|   82.24|   82.24|   82.24|\n",
      "|  6|    null|    null|    null|    null|    null|\n",
      "|  7|  1618.7|  1618.7|  1618.7|  1618.7|  1618.7|\n",
      "|  9|  1149.2|  1149.2|  1149.2|  1149.2|  1149.2|\n",
      "| 11|  602.64|  602.64|  602.64|  602.64|  602.64|\n",
      "| 13| 1331.66| 1331.66| 1331.66| 1331.66| 1331.66|\n",
      "| 14|    null|    null|    null|    null|    null|\n",
      "| 16|    null|    null|    null|    null|    null|\n",
      "| 18|  517.64|  517.64|  517.64|  517.64|  517.64|\n",
      "| 23|    null|    null|    null|    null|    null|\n",
      "+---+--------+--------+--------+--------+--------+\n",
      "only showing top 10 rows\n",
      "\n"
     ]
    }
   ],
   "source": [
    "# Let's see some rows and columns in dfdate\n",
    "spark.sql(\"SELECT Id,L0_S0_D1, L0_S0_D3, L0_S0_D5, L0_S0_D7,L0_S0_D9 FROM dfdate\").show(10)"
   ]
  },
  {
   "cell_type": "code",
   "execution_count": 126,
   "metadata": {},
   "outputs": [
    {
     "name": "stdout",
     "output_type": "stream",
     "text": [
      "   Id   time station\n",
      "0   4  82.24       0\n",
      "0   4  82.24       0\n",
      "0   4  82.24       0\n",
      "0   4  82.24       0\n",
      "0   4  82.24       0\n",
      "Shape of Station time is : (2048541, 3)\n",
      "Probabilities for every station to have the same values:  0.9821721580467314\n"
     ]
    }
   ],
   "source": [
    "# Let's check the min and max times for each station\n",
    "def get_station_times(dates, withId=False):\n",
    "    times = []\n",
    "    cols = list(dates.columns)\n",
    "    if 'Id' in cols:\n",
    "        cols.remove('Id')\n",
    "    for feature_name in cols:\n",
    "        if withId:\n",
    "            df = dates[['Id', feature_name]].copy()\n",
    "            df.columns = ['Id', 'time']\n",
    "        else:\n",
    "            df = dates[[feature_name]].copy()\n",
    "            df.columns = ['time']\n",
    "        df['station'] = feature_name.split('_')[1][1:]\n",
    "        df = df.dropna()\n",
    "        times.append(df)\n",
    "    return pd.concat(times)\n",
    "\n",
    "station_times = get_station_times(pddate, withId=True).sort_values(by=['Id', 'station'])\n",
    "print(station_times[:5])\n",
    "print(\"Shape of Station time is :\",station_times.shape)\n",
    "min_station_times = station_times.groupby(['Id', 'station']).min()['time']\n",
    "max_station_times = station_times.groupby(['Id', 'station']).max()['time']\n",
    "print(\"Probabilities for every station to have the same values: \",np.mean(1. * (min_station_times == max_station_times)))"
   ]
  },
  {
   "cell_type": "markdown",
   "metadata": {},
   "source": [
    "Through previous observation, we notive that when remove missing values, ***observation times are almost always unique for station Id pair***. Therefore, we could save memory by reading only one time for each station and prevent duplicate reading."
   ]
  },
  {
   "cell_type": "code",
   "execution_count": 128,
   "metadata": {},
   "outputs": [
    {
     "name": "stdout",
     "output_type": "stream",
     "text": [
      "['L3_S37_D3949', 'L3_S30_D3541', 'L3_S29_D3428', 'L3_S34_D3877', 'L3_S33_D3870', 'L0_S0_D3', 'L0_S1_D30', 'L0_S8_D145', 'L3_S36_D3919', 'L3_S35_D3910', 'L0_S5_D115', 'L0_S3_D70', 'L0_S6_D120', 'L0_S7_D143', 'L0_S2_D54', 'L0_S4_D106', 'L0_S12_D333', 'L0_S20_D465', 'L0_S13_D355', 'L0_S10_D266', 'L0_S11_D284', 'L0_S9_D192', 'L2_S26_D3084', 'L1_S24_D1828', 'L0_S19_D457', 'L0_S17_D432', 'L0_S14_D380', 'L0_S15_D401', 'L0_S16_D428', 'L2_S27_D3156', 'L0_S18_D447', 'L0_S21_D469', 'L0_S23_D629', 'L0_S22_D608', 'L3_S41_D4021', 'L3_S40_D3981', 'L3_S45_D4129', 'L3_S48_D4203', 'L3_S47_D4155', 'L3_S39_D3974', 'L3_S51_D4255', 'L1_S25_D1887', 'L3_S31_D3848', 'L3_S43_D4097', 'L3_S49_D4208', 'L3_S50_D4254', 'L3_S44_D4122', 'L3_S38_D3953', 'L3_S32_D3852', 'L2_S28_D3234', 'L3_S46_D4135', 'L3_S42_D4057']\n",
      "(1183747, 52)\n",
      "(14302781, 2)\n",
      "(101341, 2)\n",
      "(1183748, 52)\n",
      "(14308197, 2)\n",
      "(101265, 2)\n"
     ]
    }
   ],
   "source": [
    "# Let's check station times for train and test\n",
    "date_cols = pddate.drop('Id', axis=1).count().reset_index().sort_values(by=0, ascending=False)\n",
    "date_cols['station'] = date_cols['index'].apply(lambda s: s.split('_')[1])\n",
    "date_cols = date_cols.drop_duplicates('station', keep='first')['index'].tolist()\n",
    "print(date_cols) # selected features with distinct times\n",
    "\n",
    "train_date = pd.read_csv('s3://jiaruxu233/train_date.csv', usecols=date_cols)\n",
    "print(train_date.shape)\n",
    "train_station_times = get_station_times(train_date, withId=False)\n",
    "print(train_station_times.shape)\n",
    "train_time_cnt = train_station_times.groupby('time').count()[['station']].reset_index()\n",
    "train_time_cnt.columns = ['time', 'cnt']\n",
    "print(train_time_cnt.shape)\n",
    "\n",
    "test_date = pd.read_csv('s3://jiaruxu233/test_date.csv', usecols=date_cols)\n",
    "print(test_date.shape)\n",
    "test_station_times = get_station_times(test_date, withId=False)\n",
    "print(test_station_times.shape)\n",
    "test_time_cnt = test_station_times.groupby('time').count()[['station']].reset_index()\n",
    "test_time_cnt.columns = ['time', 'cnt']\n",
    "print(test_time_cnt.shape)"
   ]
  },
  {
   "cell_type": "code",
   "execution_count": 132,
   "metadata": {},
   "outputs": [
    {
     "data": {
      "image/png": "[encoded data removed]",
      "text/plain": [
       "<Figure size 432x288 with 1 Axes>"
      ]
     },
     "metadata": {
      "needs_background": "light"
     },
     "output_type": "display_data"
    },
    {
     "name": "stdout",
     "output_type": "stream",
     "text": [
      "(0.0, 1718.48)\n",
      "(0.0, 1718.49)\n"
     ]
    }
   ],
   "source": [
    "%matplotlib inline\n",
    "fig = plt.figure()\n",
    "plt.plot(train_time_cnt['time'].values, train_time_cnt['cnt'].values, 'b.', alpha=0.1, label='train')\n",
    "plt.plot(test_time_cnt['time'].values, test_time_cnt['cnt'].values, 'r.', alpha=0.1, label='test')\n",
    "plt.title('Original date values')\n",
    "plt.ylabel('Number of records')\n",
    "plt.xlabel('Time')\n",
    "fig.savefig('original_date_values.png', dpi=300)\n",
    "plt.show()\n",
    "\n",
    "print((train_time_cnt['time'].min(), train_time_cnt['time'].max()))\n",
    "print((test_time_cnt['time'].min(), test_time_cnt['time'].max()))"
   ]
  },
  {
   "cell_type": "markdown",
   "metadata": {},
   "source": [
    "From result above, we can see two plots are highly overlapping. Therefore, dates are almost the same in train and test dataset."
   ]
  },
  {
   "cell_type": "markdown",
   "metadata": {},
   "source": [
    "### Number of stations and lines"
   ]
  },
  {
   "cell_type": "code",
   "execution_count": 20,
   "metadata": {},
   "outputs": [
    {
     "name": "stdout",
     "output_type": "stream",
     "text": [
      "The number of lines: 4\n",
      "The number of stations: 50\n"
     ]
    }
   ],
   "source": [
    "def get_features(feature_list):\n",
    "    # function to group features by station or line of production sinc the convention is:\n",
    "    # L1_S15_F232 means Line 1, Station 15, Feature 232\n",
    "    line_features = {}\n",
    "    station_features = {}\n",
    "    lines = set([item.split('_')[0] for item in feature_list])\n",
    "    stations = set([item.split('_')[1] for item in feature_list])\n",
    "\n",
    "    for l in lines:\n",
    "        line_features[l] = [item for item in feature_list if '%s_' % l in item]\n",
    "\n",
    "    for s in stations:\n",
    "        station_features[s] = [item for item in feature_list if '%s_' % s in item]\n",
    "\n",
    "    print (\"The number of lines:\", len(line_features))\n",
    "    print (\"The number of stations:\", len(station_features))\n",
    "    return (line_features, station_features)\n",
    "\n",
    "feature_list = pd.DataFrame(num.head(1), columns=num.columns).drop([\"Response\", \"Id\"], axis=1).columns.values\n",
    "features = get_features(feature_list)"
   ]
  },
  {
   "cell_type": "markdown",
   "metadata": {},
   "source": [
    "We can find that:\n",
    "* There are 4 lines and 50 stations in total. \n",
    "* Station 24, 25 has by far the most number of features, more than 200 feature per stations! at the same time most of the stations has less than 20 features. And worth noticing that station 32 has only one feature."
   ]
  },
  {
   "cell_type": "markdown",
   "metadata": {},
   "source": [
    "### Structure of target"
   ]
  },
  {
   "cell_type": "markdown",
   "metadata": {},
   "source": [
    "Now, we'll take a look at the features or the columns and try to see how many station and line of production we have? how many features does each station have? how many products were processed in each station? and what's the failure rate per station?"
   ]
  },
  {
   "cell_type": "code",
   "execution_count": 133,
   "metadata": {},
   "outputs": [
    {
     "data": {
      "text/plain": [
       "[Row(Response=1, rate=0.00581120796927046),\n",
       " Row(Response=0, rate=0.9941887920307295)]"
      ]
     },
     "execution_count": 133,
     "metadata": {},
     "output_type": "execute_result"
    }
   ],
   "source": [
    "spark.sql(\"SELECT Response, (Count(Response)/(Select Count(*) From dfnum))as rate FROM dfnum GROUP BY Response\").collect()"
   ]
  },
  {
   "cell_type": "markdown",
   "metadata": {},
   "source": [
    "From rate above, we can see our target is ***highly imbalanced***. 'Response = 0' turns out to be a more frequent case than 'Response = 1' which quite makes sense because under most circumstances, quality control will work smoothly and will not bump into failures."
   ]
  },
  {
   "cell_type": "markdown",
   "metadata": {},
   "source": [
    "## Conclusion"
   ]
  },
  {
   "cell_type": "markdown",
   "metadata": {},
   "source": [
    "From the results above we can say:\n",
    "\n",
    "* We are dealing with more 1 million record per file.\n",
    "* The number of columns per file is also large, 1000 to 2000 per file. Each column represents a feature the corresponds to some measurement on a station or a machine.\n",
    "* Each file contains the \"Id\" column which represent the unique identifier of the product unit that we are tracking.\n",
    "* Finally we notice that  average failure rate is about 0.58%, so it will be challenging to try to predict such small number from this huge data set and to not mess up with randomness."
   ]
  },
  {
   "cell_type": "code",
   "execution_count": 138,
   "metadata": {},
   "outputs": [],
   "source": [
    "spark.stop()"
   ]
  }
 ],
 "metadata": {
  "kernelspec": {
   "display_name": "Python 3",
   "language": "python",
   "name": "python3"
  },
  "language_info": {
   "codemirror_mode": {
    "name": "ipython",
    "version": 3
   },
   "file_extension": ".py",
   "mimetype": "text/x-python",
   "name": "python",
   "nbconvert_exporter": "python",
   "pygments_lexer": "ipython3",
   "version": "3.6.8"
  },
  "toc": {
   "base_numbering": 1,
   "nav_menu": {},
   "number_sections": true,
   "sideBar": true,
   "skip_h1_title": false,
   "title_cell": "Table of Contents",
   "title_sidebar": "Contents",
   "toc_cell": false,
   "toc_position": {},
   "toc_section_display": true,
   "toc_window_display": false
  }
 },
 "nbformat": 4,
 "nbformat_minor": 4
}
